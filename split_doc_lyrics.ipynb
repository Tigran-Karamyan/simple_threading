{
 "cells": [
  {
   "cell_type": "code",
   "execution_count": null,
   "id": "b19bcb18",
   "metadata": {},
   "outputs": [],
   "source": [
    "import concurrent.futures\n",
    "import pandas as pd\n"
    "import time\n"
   ]
  },
  {
   "cell_type": "code",
   "execution_count": null,
   "id": "af289733",
   "metadata": {},
   "outputs": [],
   "source": [
    "# import dataset\n",
    "df = pd.read_csv('lyrics-data.csv').reset_index()"
   ]
  },
  {
   "cell_type": "code",
   "execution_count": null,
   "id": "597880a0",
   "metadata": {},
   "outputs": [],
   "source": [
    "df.head()"
   ]
  },
  {
   "cell_type": "code",
   "execution_count": null,
   "id": "e8e4c0e0",
   "metadata": {},
   "outputs": [],
   "source": [
    "# convert df to dict\n",
    "df_to_dict = {key: value for (key, value) in zip(df.index, df.Lyric)}"
   ]
  },
  {
   "cell_type": "code",
   "execution_count": null,
   "id": "ab324dd5",
   "metadata": {},
   "outputs": [],
   "source": [
    "filename = list(df_to_dict.keys())\n",
    "lyrics = list(df_to_dict.values())"
   ]
  },
  {
   "cell_type": "code",
   "execution_count": null,
   "id": "bebabc02",
   "metadata": {},
   "outputs": [],
   "source": [
    "def lyrics_to_txt(filename, lyrics):\n",
    "    #print(f\"Converting {filename}... \")\n",
    "    with open(f\"tmp/{filename}.txt\", \"w+\", encoding=\"utf-8\") as file:\n",
    "        file.write(str(lyrics))"
   ]
  },
  {
   "cell_type": "code",
   "execution_count": null,
   "id": "564e4654",
   "metadata": {},
   "outputs": [],
   "source": [
    "# threading\n",
    "t1 = time.perf_counter()\n",
    "with concurrent.futures.ThreadPoolExecutor() as executor:\n",
    "    executor.map(lyrics_to_txt, filename, lyrics)\n",
    "\n",
    "t2 = time.perf_counter()\n",
    "\n",
    "print(f'Finished in {t2-t1} seconds')"
   ]
  },
  {
   "cell_type": "code",
   "execution_count": null,
   "id": "538f9035",
   "metadata": {},
   "outputs": [],
   "source": [
    "# No threading\n",
    "t1 = time.perf_counter()\n",
    "for f, l in zip(filename, lyrics):\n",
    "    lyrics_to_txt(f, l)\n",
    "\n",
    "t2 = time.perf_counter()\n",
    "\n",
    "print(f'Finished in {t2-t1} seconds')"
   ]
  }
 ],
 "metadata": {
  "kernelspec": {
   "display_name": "Python 3",
   "language": "python",
   "name": "python3"
  },
  "language_info": {
   "codemirror_mode": {
    "name": "ipython",
    "version": 3
   },
   "file_extension": ".py",
   "mimetype": "text/x-python",
   "name": "python",
   "nbconvert_exporter": "python",
   "pygments_lexer": "ipython3",
   "version": "3.7.10"
  }
 },
 "nbformat": 4,
 "nbformat_minor": 5
}
